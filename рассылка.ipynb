{
 "cells": [
  {
   "cell_type": "code",
   "execution_count": 1,
   "id": "surrounded-judge",
   "metadata": {},
   "outputs": [],
   "source": [
    "import smtplib\n",
    "from getpass import getpass\n",
    "import pandas as pd\n",
    "import time\n",
    "from tqdm import tqdm"
   ]
  },
  {
   "cell_type": "code",
   "execution_count": 2,
   "id": "hired-probe",
   "metadata": {},
   "outputs": [],
   "source": [
    "dest_email = pd.DataFrame()\n",
    "dest_email = pd.read_excel('рассылка.xlsx')\n",
    "file_text = open('email_text.txt', 'r')\n",
    "email_text = file_text.read()"
   ]
  },
  {
   "cell_type": "code",
   "execution_count": 3,
   "id": "effective-strengthening",
   "metadata": {},
   "outputs": [
    {
     "data": {
      "text/html": [
       "<div>\n",
       "<style scoped>\n",
       "    .dataframe tbody tr th:only-of-type {\n",
       "        vertical-align: middle;\n",
       "    }\n",
       "\n",
       "    .dataframe tbody tr th {\n",
       "        vertical-align: top;\n",
       "    }\n",
       "\n",
       "    .dataframe thead th {\n",
       "        text-align: right;\n",
       "    }\n",
       "</style>\n",
       "<table border=\"1\" class=\"dataframe\">\n",
       "  <thead>\n",
       "    <tr style=\"text-align: right;\">\n",
       "      <th></th>\n",
       "      <th>ФИО</th>\n",
       "      <th>ПОЧТА</th>\n",
       "    </tr>\n",
       "  </thead>\n",
       "  <tbody>\n",
       "    <tr>\n",
       "      <th>0</th>\n",
       "      <td>Максим Викторович</td>\n",
       "      <td>nikon.mv.cmc@gmail.com</td>\n",
       "    </tr>\n",
       "  </tbody>\n",
       "</table>\n",
       "</div>"
      ],
      "text/plain": [
       "                 ФИО                   ПОЧТА\n",
       "0  Максим Викторович  nikon.mv.cmc@gmail.com"
      ]
     },
     "execution_count": 3,
     "metadata": {},
     "output_type": "execute_result"
    }
   ],
   "source": [
    "dest_email"
   ]
  },
  {
   "cell_type": "code",
   "execution_count": 4,
   "id": "isolated-probability",
   "metadata": {},
   "outputs": [
    {
     "name": "stdout",
     "output_type": "stream",
     "text": [
      "Поздравляем. \n",
      "\n",
      "-- \n",
      "С уважением,\n",
      "Никонов Максим Викторович\n"
     ]
    }
   ],
   "source": [
    "print(email_text)"
   ]
  },
  {
   "cell_type": "code",
   "execution_count": 8,
   "id": "positive-reference",
   "metadata": {},
   "outputs": [],
   "source": [
    "subject = 'Тема письма №1'\n",
    "def send_notification(email, txt):\n",
    "    #login\n",
    "    sender = '' \n",
    "    #password \n",
    "    sender_password = ''\n",
    "    mail_lib = smtplib.SMTP_SSL('smtp.yandex.ru', 465)\n",
    "    mail_lib.login(sender, sender_password)\n",
    "    i = 0 \n",
    "    for to_item in tqdm(email.ПОЧТА):\n",
    "        msg = 'From: %s\\r\\nTo: %s\\r\\nContent-Type: text/plain; charset=\"utf-8\"\\r\\nSubject: %s\\r\\n\\r\\n' % (\n",
    "        sender, to_item, subject)\n",
    "        msg += 'Здравствуйте, '\n",
    "        msg += str(email.ФИО[i]) + '!\\n\\n'\n",
    "        msg += txt\n",
    "        mail_lib.sendmail(sender, to_item, msg.encode('utf8'))\n",
    "        if i % 15 == 0 and i != 0:\n",
    "            time.sleep(60)\n",
    "        i = i+1\n",
    "    mail_lib.quit()"
   ]
  },
  {
   "cell_type": "code",
   "execution_count": 9,
   "id": "protective-efficiency",
   "metadata": {},
   "outputs": [
    {
     "name": "stderr",
     "output_type": "stream",
     "text": [
      "100%|███████████████████████████████████| 1/1 [00:00<00:00,  2.46it/s]\n"
     ]
    }
   ],
   "source": [
    "send_notification(dest_email, email_text)"
   ]
  },
  {
   "cell_type": "code",
   "execution_count": 10,
   "id": "random-teaching",
   "metadata": {},
   "outputs": [],
   "source": [
    "file_text.close()"
   ]
  },
  {
   "cell_type": "code",
   "execution_count": null,
   "id": "banner-dairy",
   "metadata": {},
   "outputs": [],
   "source": []
  }
 ],
 "metadata": {
  "kernelspec": {
   "display_name": "Python 3 (ipykernel)",
   "language": "python",
   "name": "python3"
  },
  "language_info": {
   "codemirror_mode": {
    "name": "ipython",
    "version": 3
   },
   "file_extension": ".py",
   "mimetype": "text/x-python",
   "name": "python",
   "nbconvert_exporter": "python",
   "pygments_lexer": "ipython3",
   "version": "3.9.1"
  }
 },
 "nbformat": 4,
 "nbformat_minor": 5
}
